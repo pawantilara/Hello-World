{
  "nbformat": 4,
  "nbformat_minor": 0,
  "metadata": {
    "colab": {
      "name": "Untitled29.ipynb",
      "version": "0.3.2",
      "provenance": [],
      "include_colab_link": true
    },
    "kernelspec": {
      "name": "python3",
      "display_name": "Python 3"
    }
  },
  "cells": [
    {
      "cell_type": "markdown",
      "metadata": {
        "id": "view-in-github",
        "colab_type": "text"
      },
      "source": [
        "<a href=\"https://colab.research.google.com/github/pawantilara/Hello-World/blob/master/Untitled29.ipynb\" target=\"_parent\"><img src=\"https://colab.research.google.com/assets/colab-badge.svg\" alt=\"Open In Colab\"/></a>"
      ]
    },
    {
      "metadata": {
        "id": "vkJHp7hHzgkl",
        "colab_type": "code",
        "colab": {}
      },
      "cell_type": "code",
      "source": [
        "import pandas as pd\n",
        "import numpy as np\n"
      ],
      "execution_count": 0,
      "outputs": []
    },
    {
      "metadata": {
        "id": "FTJo0O8Fzpgp",
        "colab_type": "code",
        "colab": {}
      },
      "cell_type": "code",
      "source": [
        "d=pd.read_csv(\"https://raw.githubusercontent.com/datasets/hepatitis/master/data/hepatitis.csv\")"
      ],
      "execution_count": 0,
      "outputs": []
    },
    {
      "metadata": {
        "id": "LCv0oQIWz4yk",
        "colab_type": "code",
        "colab": {
          "base_uri": "https://localhost:8080/",
          "height": 34
        },
        "outputId": "50f783a6-ceab-4c07-a015-310aa2ad88c9"
      },
      "cell_type": "code",
      "source": [
        "d.shape"
      ],
      "execution_count": 4,
      "outputs": [
        {
          "output_type": "execute_result",
          "data": {
            "text/plain": [
              "(155, 20)"
            ]
          },
          "metadata": {
            "tags": []
          },
          "execution_count": 4
        }
      ]
    },
    {
      "metadata": {
        "id": "gIJfOlc9z9Rz",
        "colab_type": "code",
        "colab": {
          "base_uri": "https://localhost:8080/",
          "height": 408
        },
        "outputId": "f043d050-dca7-4734-aae9-b32d707061a1"
      },
      "cell_type": "code",
      "source": [
        "d.head(10)"
      ],
      "execution_count": 28,
      "outputs": [
        {
          "output_type": "execute_result",
          "data": {
            "text/html": [
              "<div>\n",
              "<style scoped>\n",
              "    .dataframe tbody tr th:only-of-type {\n",
              "        vertical-align: middle;\n",
              "    }\n",
              "\n",
              "    .dataframe tbody tr th {\n",
              "        vertical-align: top;\n",
              "    }\n",
              "\n",
              "    .dataframe thead th {\n",
              "        text-align: right;\n",
              "    }\n",
              "</style>\n",
              "<table border=\"1\" class=\"dataframe\">\n",
              "  <thead>\n",
              "    <tr style=\"text-align: right;\">\n",
              "      <th></th>\n",
              "      <th>age</th>\n",
              "      <th>sex</th>\n",
              "      <th>steroid</th>\n",
              "      <th>antivirals</th>\n",
              "      <th>fatigue</th>\n",
              "      <th>malaise</th>\n",
              "      <th>anorexia</th>\n",
              "      <th>liver_big</th>\n",
              "      <th>liver_firm</th>\n",
              "      <th>spleen_palpable</th>\n",
              "      <th>...</th>\n",
              "      <th>ascites</th>\n",
              "      <th>varices</th>\n",
              "      <th>bilirubin</th>\n",
              "      <th>alk_phosphate</th>\n",
              "      <th>sgot</th>\n",
              "      <th>albumin</th>\n",
              "      <th>protime</th>\n",
              "      <th>histology</th>\n",
              "      <th>class</th>\n",
              "      <th>alk_phosphate</th>\n",
              "    </tr>\n",
              "  </thead>\n",
              "  <tbody>\n",
              "    <tr>\n",
              "      <th>0</th>\n",
              "      <td>30</td>\n",
              "      <td>male</td>\n",
              "      <td>False</td>\n",
              "      <td>False</td>\n",
              "      <td>False</td>\n",
              "      <td>False</td>\n",
              "      <td>False</td>\n",
              "      <td>False</td>\n",
              "      <td>False</td>\n",
              "      <td>False</td>\n",
              "      <td>...</td>\n",
              "      <td>False</td>\n",
              "      <td>False</td>\n",
              "      <td>1</td>\n",
              "      <td>85</td>\n",
              "      <td>18</td>\n",
              "      <td>4</td>\n",
              "      <td>61</td>\n",
              "      <td>False</td>\n",
              "      <td>live</td>\n",
              "      <td>85.000000</td>\n",
              "    </tr>\n",
              "    <tr>\n",
              "      <th>1</th>\n",
              "      <td>50</td>\n",
              "      <td>female</td>\n",
              "      <td>False</td>\n",
              "      <td>False</td>\n",
              "      <td>True</td>\n",
              "      <td>False</td>\n",
              "      <td>False</td>\n",
              "      <td>False</td>\n",
              "      <td>False</td>\n",
              "      <td>False</td>\n",
              "      <td>...</td>\n",
              "      <td>False</td>\n",
              "      <td>False</td>\n",
              "      <td>0</td>\n",
              "      <td>135</td>\n",
              "      <td>42</td>\n",
              "      <td>3</td>\n",
              "      <td>61</td>\n",
              "      <td>False</td>\n",
              "      <td>live</td>\n",
              "      <td>135.000000</td>\n",
              "    </tr>\n",
              "    <tr>\n",
              "      <th>2</th>\n",
              "      <td>78</td>\n",
              "      <td>female</td>\n",
              "      <td>True</td>\n",
              "      <td>False</td>\n",
              "      <td>True</td>\n",
              "      <td>False</td>\n",
              "      <td>False</td>\n",
              "      <td>True</td>\n",
              "      <td>False</td>\n",
              "      <td>False</td>\n",
              "      <td>...</td>\n",
              "      <td>False</td>\n",
              "      <td>False</td>\n",
              "      <td>0</td>\n",
              "      <td>96</td>\n",
              "      <td>32</td>\n",
              "      <td>4</td>\n",
              "      <td>61</td>\n",
              "      <td>False</td>\n",
              "      <td>live</td>\n",
              "      <td>96.000000</td>\n",
              "    </tr>\n",
              "    <tr>\n",
              "      <th>3</th>\n",
              "      <td>31</td>\n",
              "      <td>female</td>\n",
              "      <td>NaN</td>\n",
              "      <td>True</td>\n",
              "      <td>False</td>\n",
              "      <td>False</td>\n",
              "      <td>False</td>\n",
              "      <td>True</td>\n",
              "      <td>False</td>\n",
              "      <td>False</td>\n",
              "      <td>...</td>\n",
              "      <td>False</td>\n",
              "      <td>False</td>\n",
              "      <td>0</td>\n",
              "      <td>46</td>\n",
              "      <td>52</td>\n",
              "      <td>4</td>\n",
              "      <td>80</td>\n",
              "      <td>False</td>\n",
              "      <td>live</td>\n",
              "      <td>46.000000</td>\n",
              "    </tr>\n",
              "    <tr>\n",
              "      <th>4</th>\n",
              "      <td>34</td>\n",
              "      <td>female</td>\n",
              "      <td>True</td>\n",
              "      <td>False</td>\n",
              "      <td>False</td>\n",
              "      <td>False</td>\n",
              "      <td>False</td>\n",
              "      <td>True</td>\n",
              "      <td>False</td>\n",
              "      <td>False</td>\n",
              "      <td>...</td>\n",
              "      <td>False</td>\n",
              "      <td>False</td>\n",
              "      <td>1</td>\n",
              "      <td>105</td>\n",
              "      <td>200</td>\n",
              "      <td>4</td>\n",
              "      <td>61</td>\n",
              "      <td>False</td>\n",
              "      <td>live</td>\n",
              "      <td>105.325397</td>\n",
              "    </tr>\n",
              "    <tr>\n",
              "      <th>5</th>\n",
              "      <td>34</td>\n",
              "      <td>female</td>\n",
              "      <td>True</td>\n",
              "      <td>False</td>\n",
              "      <td>False</td>\n",
              "      <td>False</td>\n",
              "      <td>False</td>\n",
              "      <td>True</td>\n",
              "      <td>False</td>\n",
              "      <td>False</td>\n",
              "      <td>...</td>\n",
              "      <td>False</td>\n",
              "      <td>False</td>\n",
              "      <td>0</td>\n",
              "      <td>95</td>\n",
              "      <td>28</td>\n",
              "      <td>4</td>\n",
              "      <td>75</td>\n",
              "      <td>False</td>\n",
              "      <td>live</td>\n",
              "      <td>95.000000</td>\n",
              "    </tr>\n",
              "    <tr>\n",
              "      <th>6</th>\n",
              "      <td>51</td>\n",
              "      <td>female</td>\n",
              "      <td>False</td>\n",
              "      <td>False</td>\n",
              "      <td>True</td>\n",
              "      <td>False</td>\n",
              "      <td>True</td>\n",
              "      <td>True</td>\n",
              "      <td>False</td>\n",
              "      <td>True</td>\n",
              "      <td>...</td>\n",
              "      <td>False</td>\n",
              "      <td>False</td>\n",
              "      <td>1</td>\n",
              "      <td>105</td>\n",
              "      <td>85</td>\n",
              "      <td>3</td>\n",
              "      <td>61</td>\n",
              "      <td>False</td>\n",
              "      <td>die</td>\n",
              "      <td>105.325397</td>\n",
              "    </tr>\n",
              "    <tr>\n",
              "      <th>7</th>\n",
              "      <td>23</td>\n",
              "      <td>female</td>\n",
              "      <td>True</td>\n",
              "      <td>False</td>\n",
              "      <td>False</td>\n",
              "      <td>False</td>\n",
              "      <td>False</td>\n",
              "      <td>True</td>\n",
              "      <td>False</td>\n",
              "      <td>False</td>\n",
              "      <td>...</td>\n",
              "      <td>False</td>\n",
              "      <td>False</td>\n",
              "      <td>1</td>\n",
              "      <td>105</td>\n",
              "      <td>85</td>\n",
              "      <td>3</td>\n",
              "      <td>61</td>\n",
              "      <td>False</td>\n",
              "      <td>live</td>\n",
              "      <td>105.325397</td>\n",
              "    </tr>\n",
              "    <tr>\n",
              "      <th>8</th>\n",
              "      <td>39</td>\n",
              "      <td>female</td>\n",
              "      <td>True</td>\n",
              "      <td>False</td>\n",
              "      <td>True</td>\n",
              "      <td>False</td>\n",
              "      <td>False</td>\n",
              "      <td>True</td>\n",
              "      <td>True</td>\n",
              "      <td>False</td>\n",
              "      <td>...</td>\n",
              "      <td>False</td>\n",
              "      <td>False</td>\n",
              "      <td>0</td>\n",
              "      <td>105</td>\n",
              "      <td>48</td>\n",
              "      <td>4</td>\n",
              "      <td>61</td>\n",
              "      <td>False</td>\n",
              "      <td>live</td>\n",
              "      <td>105.325397</td>\n",
              "    </tr>\n",
              "    <tr>\n",
              "      <th>9</th>\n",
              "      <td>30</td>\n",
              "      <td>female</td>\n",
              "      <td>True</td>\n",
              "      <td>False</td>\n",
              "      <td>False</td>\n",
              "      <td>False</td>\n",
              "      <td>False</td>\n",
              "      <td>True</td>\n",
              "      <td>False</td>\n",
              "      <td>False</td>\n",
              "      <td>...</td>\n",
              "      <td>False</td>\n",
              "      <td>False</td>\n",
              "      <td>1</td>\n",
              "      <td>105</td>\n",
              "      <td>120</td>\n",
              "      <td>3</td>\n",
              "      <td>61</td>\n",
              "      <td>False</td>\n",
              "      <td>live</td>\n",
              "      <td>105.325397</td>\n",
              "    </tr>\n",
              "  </tbody>\n",
              "</table>\n",
              "<p>10 rows × 21 columns</p>\n",
              "</div>"
            ],
            "text/plain": [
              "   age     sex steroid  antivirals fatigue malaise anorexia liver_big  \\\n",
              "0   30    male   False       False   False   False    False     False   \n",
              "1   50  female   False       False    True   False    False     False   \n",
              "2   78  female    True       False    True   False    False      True   \n",
              "3   31  female     NaN        True   False   False    False      True   \n",
              "4   34  female    True       False   False   False    False      True   \n",
              "5   34  female    True       False   False   False    False      True   \n",
              "6   51  female   False       False    True   False     True      True   \n",
              "7   23  female    True       False   False   False    False      True   \n",
              "8   39  female    True       False    True   False    False      True   \n",
              "9   30  female    True       False   False   False    False      True   \n",
              "\n",
              "  liver_firm spleen_palpable       ...        ascites varices bilirubin  \\\n",
              "0      False           False       ...          False   False         1   \n",
              "1      False           False       ...          False   False         0   \n",
              "2      False           False       ...          False   False         0   \n",
              "3      False           False       ...          False   False         0   \n",
              "4      False           False       ...          False   False         1   \n",
              "5      False           False       ...          False   False         0   \n",
              "6      False            True       ...          False   False         1   \n",
              "7      False           False       ...          False   False         1   \n",
              "8       True           False       ...          False   False         0   \n",
              "9      False           False       ...          False   False         1   \n",
              "\n",
              "   alk_phosphate  sgot  albumin  protime  histology  class alk_phosphate     \n",
              "0             85    18        4       61      False   live        85.000000  \n",
              "1            135    42        3       61      False   live       135.000000  \n",
              "2             96    32        4       61      False   live        96.000000  \n",
              "3             46    52        4       80      False   live        46.000000  \n",
              "4            105   200        4       61      False   live       105.325397  \n",
              "5             95    28        4       75      False   live        95.000000  \n",
              "6            105    85        3       61      False    die       105.325397  \n",
              "7            105    85        3       61      False   live       105.325397  \n",
              "8            105    48        4       61      False   live       105.325397  \n",
              "9            105   120        3       61      False   live       105.325397  \n",
              "\n",
              "[10 rows x 21 columns]"
            ]
          },
          "metadata": {
            "tags": []
          },
          "execution_count": 28
        }
      ]
    },
    {
      "metadata": {
        "id": "A9Sjnbs_0Ctx",
        "colab_type": "code",
        "colab": {
          "base_uri": "https://localhost:8080/",
          "height": 224
        },
        "outputId": "3041a86f-0f80-40b5-a32a-6e321ad2a180"
      },
      "cell_type": "code",
      "source": [
        "d.tail()"
      ],
      "execution_count": 7,
      "outputs": [
        {
          "output_type": "execute_result",
          "data": {
            "text/html": [
              "<div>\n",
              "<style scoped>\n",
              "    .dataframe tbody tr th:only-of-type {\n",
              "        vertical-align: middle;\n",
              "    }\n",
              "\n",
              "    .dataframe tbody tr th {\n",
              "        vertical-align: top;\n",
              "    }\n",
              "\n",
              "    .dataframe thead th {\n",
              "        text-align: right;\n",
              "    }\n",
              "</style>\n",
              "<table border=\"1\" class=\"dataframe\">\n",
              "  <thead>\n",
              "    <tr style=\"text-align: right;\">\n",
              "      <th></th>\n",
              "      <th>age</th>\n",
              "      <th>sex</th>\n",
              "      <th>steroid</th>\n",
              "      <th>antivirals</th>\n",
              "      <th>fatigue</th>\n",
              "      <th>malaise</th>\n",
              "      <th>anorexia</th>\n",
              "      <th>liver_big</th>\n",
              "      <th>liver_firm</th>\n",
              "      <th>spleen_palpable</th>\n",
              "      <th>spiders</th>\n",
              "      <th>ascites</th>\n",
              "      <th>varices</th>\n",
              "      <th>bilirubin</th>\n",
              "      <th>alk_phosphate</th>\n",
              "      <th>sgot</th>\n",
              "      <th>albumin</th>\n",
              "      <th>protime</th>\n",
              "      <th>histology</th>\n",
              "      <th>class</th>\n",
              "    </tr>\n",
              "  </thead>\n",
              "  <tbody>\n",
              "    <tr>\n",
              "      <th>150</th>\n",
              "      <td>46</td>\n",
              "      <td>female</td>\n",
              "      <td>True</td>\n",
              "      <td>False</td>\n",
              "      <td>True</td>\n",
              "      <td>True</td>\n",
              "      <td>True</td>\n",
              "      <td>True</td>\n",
              "      <td>False</td>\n",
              "      <td>False</td>\n",
              "      <td>True</td>\n",
              "      <td>True</td>\n",
              "      <td>True</td>\n",
              "      <td>7.6</td>\n",
              "      <td>NaN</td>\n",
              "      <td>242.0</td>\n",
              "      <td>3.3</td>\n",
              "      <td>50.0</td>\n",
              "      <td>True</td>\n",
              "      <td>die</td>\n",
              "    </tr>\n",
              "    <tr>\n",
              "      <th>151</th>\n",
              "      <td>44</td>\n",
              "      <td>female</td>\n",
              "      <td>True</td>\n",
              "      <td>False</td>\n",
              "      <td>True</td>\n",
              "      <td>False</td>\n",
              "      <td>False</td>\n",
              "      <td>True</td>\n",
              "      <td>True</td>\n",
              "      <td>False</td>\n",
              "      <td>False</td>\n",
              "      <td>False</td>\n",
              "      <td>False</td>\n",
              "      <td>0.9</td>\n",
              "      <td>126.0</td>\n",
              "      <td>142.0</td>\n",
              "      <td>4.3</td>\n",
              "      <td>NaN</td>\n",
              "      <td>True</td>\n",
              "      <td>live</td>\n",
              "    </tr>\n",
              "    <tr>\n",
              "      <th>152</th>\n",
              "      <td>61</td>\n",
              "      <td>female</td>\n",
              "      <td>False</td>\n",
              "      <td>False</td>\n",
              "      <td>True</td>\n",
              "      <td>True</td>\n",
              "      <td>False</td>\n",
              "      <td>False</td>\n",
              "      <td>True</td>\n",
              "      <td>False</td>\n",
              "      <td>True</td>\n",
              "      <td>False</td>\n",
              "      <td>False</td>\n",
              "      <td>0.8</td>\n",
              "      <td>75.0</td>\n",
              "      <td>20.0</td>\n",
              "      <td>4.1</td>\n",
              "      <td>NaN</td>\n",
              "      <td>True</td>\n",
              "      <td>live</td>\n",
              "    </tr>\n",
              "    <tr>\n",
              "      <th>153</th>\n",
              "      <td>53</td>\n",
              "      <td>male</td>\n",
              "      <td>False</td>\n",
              "      <td>False</td>\n",
              "      <td>True</td>\n",
              "      <td>False</td>\n",
              "      <td>False</td>\n",
              "      <td>True</td>\n",
              "      <td>False</td>\n",
              "      <td>True</td>\n",
              "      <td>True</td>\n",
              "      <td>False</td>\n",
              "      <td>True</td>\n",
              "      <td>1.5</td>\n",
              "      <td>81.0</td>\n",
              "      <td>19.0</td>\n",
              "      <td>4.1</td>\n",
              "      <td>48.0</td>\n",
              "      <td>True</td>\n",
              "      <td>live</td>\n",
              "    </tr>\n",
              "    <tr>\n",
              "      <th>154</th>\n",
              "      <td>43</td>\n",
              "      <td>female</td>\n",
              "      <td>True</td>\n",
              "      <td>False</td>\n",
              "      <td>True</td>\n",
              "      <td>False</td>\n",
              "      <td>False</td>\n",
              "      <td>True</td>\n",
              "      <td>False</td>\n",
              "      <td>True</td>\n",
              "      <td>True</td>\n",
              "      <td>True</td>\n",
              "      <td>False</td>\n",
              "      <td>1.2</td>\n",
              "      <td>100.0</td>\n",
              "      <td>19.0</td>\n",
              "      <td>3.1</td>\n",
              "      <td>42.0</td>\n",
              "      <td>True</td>\n",
              "      <td>die</td>\n",
              "    </tr>\n",
              "  </tbody>\n",
              "</table>\n",
              "</div>"
            ],
            "text/plain": [
              "     age     sex steroid  antivirals fatigue malaise anorexia liver_big  \\\n",
              "150   46  female    True       False    True    True     True      True   \n",
              "151   44  female    True       False    True   False    False      True   \n",
              "152   61  female   False       False    True    True    False     False   \n",
              "153   53    male   False       False    True   False    False      True   \n",
              "154   43  female    True       False    True   False    False      True   \n",
              "\n",
              "    liver_firm spleen_palpable spiders ascites varices  bilirubin  \\\n",
              "150      False           False    True    True    True        7.6   \n",
              "151       True           False   False   False   False        0.9   \n",
              "152       True           False    True   False   False        0.8   \n",
              "153      False            True    True   False    True        1.5   \n",
              "154      False            True    True    True   False        1.2   \n",
              "\n",
              "     alk_phosphate   sgot  albumin  protime  histology class  \n",
              "150            NaN  242.0      3.3     50.0       True   die  \n",
              "151          126.0  142.0      4.3      NaN       True  live  \n",
              "152           75.0   20.0      4.1      NaN       True  live  \n",
              "153           81.0   19.0      4.1     48.0       True  live  \n",
              "154          100.0   19.0      3.1     42.0       True   die  "
            ]
          },
          "metadata": {
            "tags": []
          },
          "execution_count": 7
        }
      ]
    },
    {
      "metadata": {
        "id": "7u9qpL5o0FHo",
        "colab_type": "code",
        "colab": {
          "base_uri": "https://localhost:8080/",
          "height": 297
        },
        "outputId": "0c42456f-e966-47f3-c030-02c044836b4f"
      },
      "cell_type": "code",
      "source": [
        "d.describe()"
      ],
      "execution_count": 8,
      "outputs": [
        {
          "output_type": "execute_result",
          "data": {
            "text/html": [
              "<div>\n",
              "<style scoped>\n",
              "    .dataframe tbody tr th:only-of-type {\n",
              "        vertical-align: middle;\n",
              "    }\n",
              "\n",
              "    .dataframe tbody tr th {\n",
              "        vertical-align: top;\n",
              "    }\n",
              "\n",
              "    .dataframe thead th {\n",
              "        text-align: right;\n",
              "    }\n",
              "</style>\n",
              "<table border=\"1\" class=\"dataframe\">\n",
              "  <thead>\n",
              "    <tr style=\"text-align: right;\">\n",
              "      <th></th>\n",
              "      <th>age</th>\n",
              "      <th>bilirubin</th>\n",
              "      <th>alk_phosphate</th>\n",
              "      <th>sgot</th>\n",
              "      <th>albumin</th>\n",
              "      <th>protime</th>\n",
              "    </tr>\n",
              "  </thead>\n",
              "  <tbody>\n",
              "    <tr>\n",
              "      <th>count</th>\n",
              "      <td>155.000000</td>\n",
              "      <td>149.000000</td>\n",
              "      <td>126.000000</td>\n",
              "      <td>151.00000</td>\n",
              "      <td>139.000000</td>\n",
              "      <td>88.000000</td>\n",
              "    </tr>\n",
              "    <tr>\n",
              "      <th>mean</th>\n",
              "      <td>41.200000</td>\n",
              "      <td>1.427517</td>\n",
              "      <td>105.325397</td>\n",
              "      <td>85.89404</td>\n",
              "      <td>3.817266</td>\n",
              "      <td>61.852273</td>\n",
              "    </tr>\n",
              "    <tr>\n",
              "      <th>std</th>\n",
              "      <td>12.565878</td>\n",
              "      <td>1.212149</td>\n",
              "      <td>51.508109</td>\n",
              "      <td>89.65089</td>\n",
              "      <td>0.651523</td>\n",
              "      <td>22.875244</td>\n",
              "    </tr>\n",
              "    <tr>\n",
              "      <th>min</th>\n",
              "      <td>7.000000</td>\n",
              "      <td>0.300000</td>\n",
              "      <td>26.000000</td>\n",
              "      <td>14.00000</td>\n",
              "      <td>2.100000</td>\n",
              "      <td>0.000000</td>\n",
              "    </tr>\n",
              "    <tr>\n",
              "      <th>25%</th>\n",
              "      <td>32.000000</td>\n",
              "      <td>0.700000</td>\n",
              "      <td>74.250000</td>\n",
              "      <td>31.50000</td>\n",
              "      <td>3.400000</td>\n",
              "      <td>46.000000</td>\n",
              "    </tr>\n",
              "    <tr>\n",
              "      <th>50%</th>\n",
              "      <td>39.000000</td>\n",
              "      <td>1.000000</td>\n",
              "      <td>85.000000</td>\n",
              "      <td>58.00000</td>\n",
              "      <td>4.000000</td>\n",
              "      <td>61.000000</td>\n",
              "    </tr>\n",
              "    <tr>\n",
              "      <th>75%</th>\n",
              "      <td>50.000000</td>\n",
              "      <td>1.500000</td>\n",
              "      <td>132.250000</td>\n",
              "      <td>100.50000</td>\n",
              "      <td>4.200000</td>\n",
              "      <td>76.250000</td>\n",
              "    </tr>\n",
              "    <tr>\n",
              "      <th>max</th>\n",
              "      <td>78.000000</td>\n",
              "      <td>8.000000</td>\n",
              "      <td>295.000000</td>\n",
              "      <td>648.00000</td>\n",
              "      <td>6.400000</td>\n",
              "      <td>100.000000</td>\n",
              "    </tr>\n",
              "  </tbody>\n",
              "</table>\n",
              "</div>"
            ],
            "text/plain": [
              "              age   bilirubin  alk_phosphate       sgot     albumin  \\\n",
              "count  155.000000  149.000000     126.000000  151.00000  139.000000   \n",
              "mean    41.200000    1.427517     105.325397   85.89404    3.817266   \n",
              "std     12.565878    1.212149      51.508109   89.65089    0.651523   \n",
              "min      7.000000    0.300000      26.000000   14.00000    2.100000   \n",
              "25%     32.000000    0.700000      74.250000   31.50000    3.400000   \n",
              "50%     39.000000    1.000000      85.000000   58.00000    4.000000   \n",
              "75%     50.000000    1.500000     132.250000  100.50000    4.200000   \n",
              "max     78.000000    8.000000     295.000000  648.00000    6.400000   \n",
              "\n",
              "          protime  \n",
              "count   88.000000  \n",
              "mean    61.852273  \n",
              "std     22.875244  \n",
              "min      0.000000  \n",
              "25%     46.000000  \n",
              "50%     61.000000  \n",
              "75%     76.250000  \n",
              "max    100.000000  "
            ]
          },
          "metadata": {
            "tags": []
          },
          "execution_count": 8
        }
      ]
    },
    {
      "metadata": {
        "id": "TVtddlNf0IoF",
        "colab_type": "code",
        "colab": {
          "base_uri": "https://localhost:8080/",
          "height": 235
        },
        "outputId": "97349bb4-2b5e-4399-eaea-5876c6725f88"
      },
      "cell_type": "code",
      "source": [
        "d.describe().transpose()"
      ],
      "execution_count": 10,
      "outputs": [
        {
          "output_type": "execute_result",
          "data": {
            "text/html": [
              "<div>\n",
              "<style scoped>\n",
              "    .dataframe tbody tr th:only-of-type {\n",
              "        vertical-align: middle;\n",
              "    }\n",
              "\n",
              "    .dataframe tbody tr th {\n",
              "        vertical-align: top;\n",
              "    }\n",
              "\n",
              "    .dataframe thead th {\n",
              "        text-align: right;\n",
              "    }\n",
              "</style>\n",
              "<table border=\"1\" class=\"dataframe\">\n",
              "  <thead>\n",
              "    <tr style=\"text-align: right;\">\n",
              "      <th></th>\n",
              "      <th>count</th>\n",
              "      <th>mean</th>\n",
              "      <th>std</th>\n",
              "      <th>min</th>\n",
              "      <th>25%</th>\n",
              "      <th>50%</th>\n",
              "      <th>75%</th>\n",
              "      <th>max</th>\n",
              "    </tr>\n",
              "  </thead>\n",
              "  <tbody>\n",
              "    <tr>\n",
              "      <th>age</th>\n",
              "      <td>155.0</td>\n",
              "      <td>41.200000</td>\n",
              "      <td>12.565878</td>\n",
              "      <td>7.0</td>\n",
              "      <td>32.00</td>\n",
              "      <td>39.0</td>\n",
              "      <td>50.00</td>\n",
              "      <td>78.0</td>\n",
              "    </tr>\n",
              "    <tr>\n",
              "      <th>bilirubin</th>\n",
              "      <td>149.0</td>\n",
              "      <td>1.427517</td>\n",
              "      <td>1.212149</td>\n",
              "      <td>0.3</td>\n",
              "      <td>0.70</td>\n",
              "      <td>1.0</td>\n",
              "      <td>1.50</td>\n",
              "      <td>8.0</td>\n",
              "    </tr>\n",
              "    <tr>\n",
              "      <th>alk_phosphate</th>\n",
              "      <td>126.0</td>\n",
              "      <td>105.325397</td>\n",
              "      <td>51.508109</td>\n",
              "      <td>26.0</td>\n",
              "      <td>74.25</td>\n",
              "      <td>85.0</td>\n",
              "      <td>132.25</td>\n",
              "      <td>295.0</td>\n",
              "    </tr>\n",
              "    <tr>\n",
              "      <th>sgot</th>\n",
              "      <td>151.0</td>\n",
              "      <td>85.894040</td>\n",
              "      <td>89.650890</td>\n",
              "      <td>14.0</td>\n",
              "      <td>31.50</td>\n",
              "      <td>58.0</td>\n",
              "      <td>100.50</td>\n",
              "      <td>648.0</td>\n",
              "    </tr>\n",
              "    <tr>\n",
              "      <th>albumin</th>\n",
              "      <td>139.0</td>\n",
              "      <td>3.817266</td>\n",
              "      <td>0.651523</td>\n",
              "      <td>2.1</td>\n",
              "      <td>3.40</td>\n",
              "      <td>4.0</td>\n",
              "      <td>4.20</td>\n",
              "      <td>6.4</td>\n",
              "    </tr>\n",
              "    <tr>\n",
              "      <th>protime</th>\n",
              "      <td>88.0</td>\n",
              "      <td>61.852273</td>\n",
              "      <td>22.875244</td>\n",
              "      <td>0.0</td>\n",
              "      <td>46.00</td>\n",
              "      <td>61.0</td>\n",
              "      <td>76.25</td>\n",
              "      <td>100.0</td>\n",
              "    </tr>\n",
              "  </tbody>\n",
              "</table>\n",
              "</div>"
            ],
            "text/plain": [
              "               count        mean        std   min    25%   50%     75%    max\n",
              "age            155.0   41.200000  12.565878   7.0  32.00  39.0   50.00   78.0\n",
              "bilirubin      149.0    1.427517   1.212149   0.3   0.70   1.0    1.50    8.0\n",
              "alk_phosphate  126.0  105.325397  51.508109  26.0  74.25  85.0  132.25  295.0\n",
              "sgot           151.0   85.894040  89.650890  14.0  31.50  58.0  100.50  648.0\n",
              "albumin        139.0    3.817266   0.651523   2.1   3.40   4.0    4.20    6.4\n",
              "protime         88.0   61.852273  22.875244   0.0  46.00  61.0   76.25  100.0"
            ]
          },
          "metadata": {
            "tags": []
          },
          "execution_count": 10
        }
      ]
    },
    {
      "metadata": {
        "id": "XyeMylc90Qbx",
        "colab_type": "code",
        "colab": {
          "base_uri": "https://localhost:8080/",
          "height": 374
        },
        "outputId": "017e0ea1-6543-434d-c6db-2ff758c490e7"
      },
      "cell_type": "code",
      "source": [
        "d.dtypes"
      ],
      "execution_count": 12,
      "outputs": [
        {
          "output_type": "execute_result",
          "data": {
            "text/plain": [
              "age                  int64\n",
              "sex                 object\n",
              "steroid             object\n",
              "antivirals            bool\n",
              "fatigue             object\n",
              "malaise             object\n",
              "anorexia            object\n",
              "liver_big           object\n",
              "liver_firm          object\n",
              "spleen_palpable     object\n",
              "spiders             object\n",
              "ascites             object\n",
              "varices             object\n",
              "bilirubin          float64\n",
              "alk_phosphate      float64\n",
              "sgot               float64\n",
              "albumin            float64\n",
              "protime            float64\n",
              "histology             bool\n",
              "class               object\n",
              "dtype: object"
            ]
          },
          "metadata": {
            "tags": []
          },
          "execution_count": 12
        }
      ]
    },
    {
      "metadata": {
        "id": "5aCtA7h59MTf",
        "colab_type": "text"
      },
      "cell_type": "markdown",
      "source": [
        "# **Data Cleaning**"
      ]
    },
    {
      "metadata": {
        "id": "JMXQHD3O0Xjv",
        "colab_type": "code",
        "colab": {
          "base_uri": "https://localhost:8080/",
          "height": 374
        },
        "outputId": "3da4b632-2367-479f-b4f4-1bd9f25411d8"
      },
      "cell_type": "code",
      "source": [
        "d.isnull().sum()"
      ],
      "execution_count": 13,
      "outputs": [
        {
          "output_type": "execute_result",
          "data": {
            "text/plain": [
              "age                 0\n",
              "sex                 0\n",
              "steroid             1\n",
              "antivirals          0\n",
              "fatigue             1\n",
              "malaise             1\n",
              "anorexia            1\n",
              "liver_big          10\n",
              "liver_firm         11\n",
              "spleen_palpable     5\n",
              "spiders             5\n",
              "ascites             5\n",
              "varices             5\n",
              "bilirubin           6\n",
              "alk_phosphate      29\n",
              "sgot                4\n",
              "albumin            16\n",
              "protime            67\n",
              "histology           0\n",
              "class               0\n",
              "dtype: int64"
            ]
          },
          "metadata": {
            "tags": []
          },
          "execution_count": 13
        }
      ]
    },
    {
      "metadata": {
        "id": "sQ6fizmn2JOA",
        "colab_type": "code",
        "colab": {}
      },
      "cell_type": "code",
      "source": [
        "d['protime']=d.protime.fillna(d.protime.mean())"
      ],
      "execution_count": 0,
      "outputs": []
    },
    {
      "metadata": {
        "id": "Qo5C_kDa13XZ",
        "colab_type": "code",
        "colab": {}
      },
      "cell_type": "code",
      "source": [
        "d['protime']=d['protime'].astype(int)"
      ],
      "execution_count": 0,
      "outputs": []
    },
    {
      "metadata": {
        "id": "-S-lfBGf2ljl",
        "colab_type": "code",
        "colab": {}
      },
      "cell_type": "code",
      "source": [
        "d['albumin']=d.albumin.fillna(d.albumin.mean())"
      ],
      "execution_count": 0,
      "outputs": []
    },
    {
      "metadata": {
        "id": "3RN0i-_22u_N",
        "colab_type": "code",
        "colab": {}
      },
      "cell_type": "code",
      "source": [
        "d['albumin']=d['albumin'].astype(int)"
      ],
      "execution_count": 0,
      "outputs": []
    },
    {
      "metadata": {
        "id": "adZTniKQ22LP",
        "colab_type": "code",
        "colab": {}
      },
      "cell_type": "code",
      "source": [
        "d['sgot']=d.sgot.fillna(d.sgot.mean())\n",
        "d['sgot']=d['sgot'].astype(int)"
      ],
      "execution_count": 0,
      "outputs": []
    },
    {
      "metadata": {
        "id": "ZlR_aNWq3iA9",
        "colab_type": "code",
        "colab": {}
      },
      "cell_type": "code",
      "source": [
        "d['alk_phosphate']=d.alk_phosphate.fillna(d.alk_phosphate .mean())\n",
        "d['alk_phosphate']=d['alk_phosphate'].astype(int)"
      ],
      "execution_count": 0,
      "outputs": []
    },
    {
      "metadata": {
        "id": "RJJ_Rj5Y36yq",
        "colab_type": "code",
        "colab": {}
      },
      "cell_type": "code",
      "source": [
        "d['bilirubin']=d.bilirubin.fillna(d.bilirubin.mean())\n",
        "d['bilirubin']=d['bilirubin'].astype(int)"
      ],
      "execution_count": 0,
      "outputs": []
    },
    {
      "metadata": {
        "id": "ysFB8aK04Ixl",
        "colab_type": "code",
        "colab": {
          "base_uri": "https://localhost:8080/",
          "height": 391
        },
        "outputId": "d48aea1d-ca28-49dd-e617-8c0781567d49"
      },
      "cell_type": "code",
      "source": [
        "d.dtypes"
      ],
      "execution_count": 26,
      "outputs": [
        {
          "output_type": "execute_result",
          "data": {
            "text/plain": [
              "age                   int64\n",
              "sex                  object\n",
              "steroid              object\n",
              "antivirals             bool\n",
              "fatigue              object\n",
              "malaise              object\n",
              "anorexia             object\n",
              "liver_big            object\n",
              "liver_firm           object\n",
              "spleen_palpable      object\n",
              "spiders              object\n",
              "ascites              object\n",
              "varices              object\n",
              "bilirubin             int64\n",
              "alk_phosphate         int64\n",
              "sgot                  int64\n",
              "albumin               int64\n",
              "protime               int64\n",
              "histology              bool\n",
              "class                object\n",
              "alk_phosphate       float64\n",
              "dtype: object"
            ]
          },
          "metadata": {
            "tags": []
          },
          "execution_count": 26
        }
      ]
    },
    {
      "metadata": {
        "id": "KUCyEkYj4r8j",
        "colab_type": "code",
        "colab": {
          "base_uri": "https://localhost:8080/",
          "height": 391
        },
        "outputId": "81dc8f40-8bc5-4f7d-d9bc-406a78f6bae8"
      },
      "cell_type": "code",
      "source": [
        "d.isnull().sum()"
      ],
      "execution_count": 27,
      "outputs": [
        {
          "output_type": "execute_result",
          "data": {
            "text/plain": [
              "age                  0\n",
              "sex                  0\n",
              "steroid              1\n",
              "antivirals           0\n",
              "fatigue              1\n",
              "malaise              1\n",
              "anorexia             1\n",
              "liver_big           10\n",
              "liver_firm          11\n",
              "spleen_palpable      5\n",
              "spiders              5\n",
              "ascites              5\n",
              "varices              5\n",
              "bilirubin            0\n",
              "alk_phosphate        0\n",
              "sgot                 0\n",
              "albumin              0\n",
              "protime              0\n",
              "histology            0\n",
              "class                0\n",
              "alk_phosphate        0\n",
              "dtype: int64"
            ]
          },
          "metadata": {
            "tags": []
          },
          "execution_count": 27
        }
      ]
    },
    {
      "metadata": {
        "id": "OKzkBYLu5d5-",
        "colab_type": "code",
        "colab": {}
      },
      "cell_type": "code",
      "source": [
        "d['liver_big']=d.liver_big.fillna(method='ffill')"
      ],
      "execution_count": 0,
      "outputs": []
    },
    {
      "metadata": {
        "id": "wpRa9QyP7McG",
        "colab_type": "code",
        "colab": {}
      },
      "cell_type": "code",
      "source": [
        "d['liver_firm']=d.liver_firm.fillna(method='bfill')\n",
        "d['spleen_palpable']=d.spleen_palpable.fillna(method='bfill')\n",
        "d['spiders']=d.spiders.fillna(method='bfill')\n",
        "d['ascites']=d.ascites.fillna(method='bfill')\n",
        "d['varices']=d.varices.fillna(method='bfill')\n"
      ],
      "execution_count": 0,
      "outputs": []
    },
    {
      "metadata": {
        "id": "QLxsX0V28I1w",
        "colab_type": "code",
        "colab": {
          "base_uri": "https://localhost:8080/",
          "height": 391
        },
        "outputId": "2f08b9c1-e717-41d8-a72c-d459b46d25fa"
      },
      "cell_type": "code",
      "source": [
        "d.isnull().sum()"
      ],
      "execution_count": 36,
      "outputs": [
        {
          "output_type": "execute_result",
          "data": {
            "text/plain": [
              "age                 0\n",
              "sex                 0\n",
              "steroid             1\n",
              "antivirals          0\n",
              "fatigue             1\n",
              "malaise             1\n",
              "anorexia            1\n",
              "liver_big           0\n",
              "liver_firm          0\n",
              "spleen_palpable     0\n",
              "spiders             0\n",
              "ascites             0\n",
              "varices             0\n",
              "bilirubin           0\n",
              "alk_phosphate       0\n",
              "sgot                0\n",
              "albumin             0\n",
              "protime             0\n",
              "histology           0\n",
              "class               0\n",
              "alk_phosphate       0\n",
              "dtype: int64"
            ]
          },
          "metadata": {
            "tags": []
          },
          "execution_count": 36
        }
      ]
    },
    {
      "metadata": {
        "id": "nWg8dC9b8OVG",
        "colab_type": "code",
        "colab": {}
      },
      "cell_type": "code",
      "source": [
        "d['steroid']=d.steroid.fillna(method='ffill')\n",
        "d['fatigue']=d.fatigue.fillna(method='ffill')\n",
        "d['malaise']=d.malaise.fillna(method='ffill')\n",
        "d['anorexia']=d.anorexia.fillna(method='ffill')\n"
      ],
      "execution_count": 0,
      "outputs": []
    },
    {
      "metadata": {
        "id": "bu-SP3HY9FzV",
        "colab_type": "code",
        "colab": {
          "base_uri": "https://localhost:8080/",
          "height": 391
        },
        "outputId": "96347ac1-84d7-4c2e-d2c4-831cb67ccefa"
      },
      "cell_type": "code",
      "source": [
        "d.isnull().sum()"
      ],
      "execution_count": 40,
      "outputs": [
        {
          "output_type": "execute_result",
          "data": {
            "text/plain": [
              "age                 0\n",
              "sex                 0\n",
              "steroid             0\n",
              "antivirals          0\n",
              "fatigue             0\n",
              "malaise             0\n",
              "anorexia            0\n",
              "liver_big           0\n",
              "liver_firm          0\n",
              "spleen_palpable     0\n",
              "spiders             0\n",
              "ascites             0\n",
              "varices             0\n",
              "bilirubin           0\n",
              "alk_phosphate       0\n",
              "sgot                0\n",
              "albumin             0\n",
              "protime             0\n",
              "histology           0\n",
              "class               0\n",
              "alk_phosphate       0\n",
              "dtype: int64"
            ]
          },
          "metadata": {
            "tags": []
          },
          "execution_count": 40
        }
      ]
    }
  ]
}